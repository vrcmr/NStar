{
 "cells": [
  {
   "cell_type": "code",
   "execution_count": 1,
   "id": "eda0d58c-ef00-4c3f-9405-137f9f68ee46",
   "metadata": {},
   "outputs": [],
   "source": [
    "import numpy as np\n",
    "import math\n",
    "import matplotlib.pyplot as plt\n",
    "import seaborn as sns; sns.set_theme()\n",
    "import math\n",
    "%matplotlib widget"
   ]
  },
  {
   "cell_type": "code",
   "execution_count": 2,
   "id": "318e1598-6f0a-4bcc-9ca6-04947f5c8630",
   "metadata": {},
   "outputs": [],
   "source": [
    "# check values in info.txt\n",
    "header = ['dens', 'vx', 'vy', 'prs', 'cs'] \n",
    "xcell = 256\n",
    "xbeg = -0.5\n",
    "xend =  0.5\n",
    "\n",
    "ycell = 512\n",
    "ybeg = -1.\n",
    "yend =  1.\n"
   ]
  },
  {
   "cell_type": "code",
   "execution_count": 3,
   "id": "4ae16d03-a444-412d-93d2-1f4296bd201f",
   "metadata": {},
   "outputs": [],
   "source": [
    "class Snapshot:\n",
    "    def __init__(self, icell = xcell, jcell = ycell, ibeg = xbeg, jbeg = ybeg, iend = xend, jend = yend):\n",
    "        self.icell = icell\n",
    "        self.jcell = jcell\n",
    "        self.ibeg = ibeg\n",
    "        self.jbeg = jbeg\n",
    "        self.iend = iend\n",
    "        self.jend = jend\n",
    "        self.data = {}\n",
    "        self.X, self.Y = np.meshgrid(np.linspace(ibeg, iend, icell), np.linspace(jbeg, jend, jcell))\n",
    "        self.out = \"\"\n",
    "        return\n",
    "        \n",
    "        \n",
    "        \n",
    "    def get_data(self, step):\n",
    "        idx = 0\n",
    "        header = ['dens', 'vx', 'vy', 'prs', 'cs']\n",
    "        self.out = str(step).zfill(4)\n",
    "        filename = '../data/khi.' + self.out + '.dat'\n",
    "        \n",
    "        for var in header:\n",
    "            self.data[var] = np.loadtxt(filename , unpack=True, usecols=[idx]).reshape(self.jcell,self.icell)\n",
    "            idx += 1\n",
    "        return\n",
    "\n",
    "        \n",
    "            \n",
    "    def plot(self, var, title = 'Plot'):\n",
    "        output = '../imagens/rt_' + var + '_' + self.out + '.png'\n",
    "        fig, ax = plt.subplots(1,1)\n",
    "        plt.style.use('seaborn-white')\n",
    "        cp = ax.contourf(self.X, self.Y, self.data[var], cmap='gist_heat')\n",
    "        fig.colorbar(cp) # Add a colorbar to a plot\n",
    "        ax.set_title(title)\n",
    "        ax.set_xlabel('x (Km)')\n",
    "        ax.set_ylabel('y (Km)')\n",
    "        ax.set_xlim(self.ibeg, self.iend)\n",
    "        ax.set_ylim(self.jbeg, self.jend)\n",
    "        ax.axes.set_aspect('equal')\n",
    "#         ax.axis('scaled')\n",
    "\n",
    "        plt.show()\n",
    "        plt.savefig(output)\n",
    "\n",
    "#         plt.close('all')\n",
    "\n",
    "        return\n",
    "\n",
    "\n",
    "        "
   ]
  },
  {
   "cell_type": "code",
   "execution_count": 4,
   "id": "114c0c5c-86af-4bb0-a952-645e4bf20a16",
   "metadata": {},
   "outputs": [],
   "source": [
    "init = Snapshot()"
   ]
  },
  {
   "cell_type": "code",
   "execution_count": 5,
   "id": "b0eb8557-4a1e-4001-9a33-d4a4af5c8f5b",
   "metadata": {},
   "outputs": [
    {
     "data": {
      "application/vnd.jupyter.widget-view+json": {
       "model_id": "13aa496e41914031aa38ddb45227f970",
       "version_major": 2,
       "version_minor": 0
      },
      "text/plain": [
       "Canvas(toolbar=Toolbar(toolitems=[('Home', 'Reset original view', 'home', 'home'), ('Back', 'Back to previous …"
      ]
     },
     "metadata": {},
     "output_type": "display_data"
    }
   ],
   "source": [
    "init.get_data(0)\n",
    "init.plot('dens')\n"
   ]
  },
  {
   "cell_type": "code",
   "execution_count": null,
   "id": "e6f8121b-0f94-4a2b-a2a4-de5e6438bef8",
   "metadata": {},
   "outputs": [],
   "source": []
  }
 ],
 "metadata": {
  "kernelspec": {
   "display_name": "Python 3 (ipykernel)",
   "language": "python",
   "name": "python3"
  },
  "language_info": {
   "codemirror_mode": {
    "name": "ipython",
    "version": 3
   },
   "file_extension": ".py",
   "mimetype": "text/x-python",
   "name": "python",
   "nbconvert_exporter": "python",
   "pygments_lexer": "ipython3",
   "version": "3.8.2"
  }
 },
 "nbformat": 4,
 "nbformat_minor": 5
}
