{
 "cells": [
  {
   "cell_type": "code",
   "execution_count": 1,
   "id": "eda0d58c-ef00-4c3f-9405-137f9f68ee46",
   "metadata": {},
   "outputs": [
    {
     "ename": "ModuleNotFoundError",
     "evalue": "No module named 'seaborn'",
     "output_type": "error",
     "traceback": [
      "\u001b[0;31m---------------------------------------------------------------------------\u001b[0m",
      "\u001b[0;31mModuleNotFoundError\u001b[0m                       Traceback (most recent call last)",
      "\u001b[0;32m<ipython-input-1-0b1adcdbae8a>\u001b[0m in \u001b[0;36m<module>\u001b[0;34m\u001b[0m\n\u001b[1;32m      3\u001b[0m \u001b[0;32mimport\u001b[0m \u001b[0mmatplotlib\u001b[0m\u001b[0;34m.\u001b[0m\u001b[0mpyplot\u001b[0m \u001b[0;32mas\u001b[0m \u001b[0mplt\u001b[0m\u001b[0;34m\u001b[0m\u001b[0;34m\u001b[0m\u001b[0m\n\u001b[1;32m      4\u001b[0m \u001b[0;32mimport\u001b[0m \u001b[0mmatplotlib\u001b[0m \u001b[0;32mas\u001b[0m \u001b[0mmpl\u001b[0m\u001b[0;34m\u001b[0m\u001b[0;34m\u001b[0m\u001b[0m\n\u001b[0;32m----> 5\u001b[0;31m \u001b[0;32mimport\u001b[0m \u001b[0mseaborn\u001b[0m \u001b[0;32mas\u001b[0m \u001b[0msns\u001b[0m\u001b[0;34m;\u001b[0m \u001b[0msns\u001b[0m\u001b[0;34m.\u001b[0m\u001b[0mset_theme\u001b[0m\u001b[0;34m(\u001b[0m\u001b[0;34m)\u001b[0m\u001b[0;34m\u001b[0m\u001b[0;34m\u001b[0m\u001b[0m\n\u001b[0m\u001b[1;32m      6\u001b[0m \u001b[0;32mimport\u001b[0m \u001b[0mmath\u001b[0m\u001b[0;34m\u001b[0m\u001b[0;34m\u001b[0m\u001b[0m\n\u001b[1;32m      7\u001b[0m \u001b[0mget_ipython\u001b[0m\u001b[0;34m(\u001b[0m\u001b[0;34m)\u001b[0m\u001b[0;34m.\u001b[0m\u001b[0mrun_line_magic\u001b[0m\u001b[0;34m(\u001b[0m\u001b[0;34m'matplotlib'\u001b[0m\u001b[0;34m,\u001b[0m \u001b[0;34m'widget'\u001b[0m\u001b[0;34m)\u001b[0m\u001b[0;34m\u001b[0m\u001b[0;34m\u001b[0m\u001b[0m\n",
      "\u001b[0;31mModuleNotFoundError\u001b[0m: No module named 'seaborn'"
     ]
    }
   ],
   "source": [
    "import numpy as np\n",
    "import math\n",
    "import matplotlib.pyplot as plt\n",
    "import matplotlib as mpl\n",
    "import seaborn as sns; sns.set_theme()\n",
    "import math\n",
    "%matplotlib widget"
   ]
  },
  {
   "cell_type": "code",
   "execution_count": 2,
   "id": "6db071e1-6d53-4f60-878f-e414724d308b",
   "metadata": {},
   "outputs": [],
   "source": [
    "# check values in info.txt\n",
    "header = ['dens', 'vx', 'vy', 'prs', 'cs'] \n",
    "xcell = 100\n",
    "xbeg = -0.5\n",
    "xend = 0.5\n",
    "\n",
    "ycell = 100\n",
    "ybeg = -0.5\n",
    "yend =  0.5"
   ]
  },
  {
   "cell_type": "code",
   "execution_count": 35,
   "id": "45a55d86-c90b-495b-b194-acadad6e9048",
   "metadata": {},
   "outputs": [],
   "source": [
    "class Snapshot:\n",
    "    def __init__(self, icell = xcell, jcell = ycell, ibeg = xbeg, jbeg = ybeg, iend = xend, jend = yend, ptr = Ptr, pstar = Pstar):\n",
    "        self.icell = icell\n",
    "        self.jcell = jcell\n",
    "        self.ibeg = ibeg\n",
    "        self.jbeg = jbeg\n",
    "        self.iend = iend\n",
    "        self.jend = jend\n",
    "        self.ptr = ptr\n",
    "        self.pstar = pstar\n",
    "        self.data = {}\n",
    "        self.Xgrid, self.Ygrid = np.meshgrid(np.linspace(ibeg, iend, icell), np.linspace(jbeg, jend, jcell))\n",
    "        self.out = \"\"\n",
    "        self.step = 0\n",
    "        self.time = \"\"\n",
    "        return\n",
    "        \n",
    "        \n",
    "    def set_data(self, step):\n",
    "        idx = 0\n",
    "        header = ['dens', 'vx', 'vy', 'prs', 'cs', 'eps', 'E']\n",
    "        self.out = str(step).zfill(4)\n",
    "        self.step = step\n",
    "        self.time = str(round(step * 3.336 * 10./1000.,2))\n",
    "        filename = '../data/NS.' + self.out + '.dat'\n",
    "        \n",
    "        for var in header:\n",
    "            self.data[var] = np.loadtxt(filename , unpack=True, usecols=[idx]).reshape(self.jcell,self.icell)\n",
    "            idx += 1\n",
    "        return\n",
    "    \n",
    "    def get_data(self):\n",
    "        return self.data\n",
    "\n",
    "            \n",
    "    def plot(self, var, jmax ,title = 'Plot'):\n",
    "        output = '../imagens/NS_' + var + '_' + self.out + '.png'\n",
    "        fig, ax = plt.subplots(1,1)\n",
    "        plt.style.use('seaborn-white')\n",
    "        cp = ax.contourf(self.Xgrid, self.Ygrid, self.data[var], cmap=  plt.cm.coolwarm ) #'viridis' )#'gist_heat')\n",
    "#         cs = ax.contour(self.Xgrid, self.Ygrid, self.data[var], levels = [20.,self.ptr] ,\n",
    "#                  colors=('k',),linestyles=('-',),linewidths=(0.7,))#'gist_heat')\n",
    "#         fig.colorbar(cp) # Add a colorbar to a plot\n",
    "        ax.set_title(title + ' time: ' + self.time + '$\\mu$s')\n",
    "        ax.set_xlabel('x (Km)')\n",
    "        ax.set_ylabel('y (Km)')\n",
    "        ax.set_xlim(self.ibeg, self.iend)\n",
    "#         ax.set_ylim(self.jbeg, self.jend)\n",
    "        ax.set_ylim(self.jbeg, jmax)\n",
    "#         ax.axes.set_aspect('equal')\n",
    "#         ax.axis('scaled')\n",
    "#         if (var == 'prs'):\n",
    "#             norm = mpl.colors.TwoSlopeNorm(vmin=self.data[var].min(), vmax=self.data[var].max(), vcenter = self.ptr)\n",
    "#         elif(var == 'dens'):\n",
    "#             rho = 939. * ( 1.333 * (self.ptr + 120.) )**0.75 / (1.772 * 197.33**0.75)\n",
    "#             norm = mpl.colors.TwoSlopeNorm(vmin=self.data[var].min(), vmax=self.data[var].max(), vcenter = rho)\n",
    "        norm = mpl.colors.Normalize(vmin=self.data[var].min(), vmax= self.data[var].max())\n",
    "\n",
    "        sm = plt.cm.ScalarMappable(norm=norm, cmap = cp.cmap)\n",
    "        sm.set_array([])\n",
    "        fig.colorbar(sm, ticks=cp.levels) # , label='$MeV\\cdot fm^{-3}$')\n",
    "\n",
    "\n",
    "\n",
    "\n",
    "        plt.show()\n",
    "        plt.savefig(output)\n",
    "\n",
    "#         plt.close('all')\n",
    "\n",
    "        return\n",
    "\n",
    "    def velocity(self, var, jmax, title='Plot'):        \n",
    "        output = '../imagens/NS_' + var + '_vel_' + self.out + '.png'\n",
    "        fig, ax = plt.subplots(1,1)\n",
    "        plt.style.use('seaborn-white')\n",
    "        cp = ax.contourf(self.Xgrid, self.Ygrid, self.data[var], cmap='viridis' )\n",
    "#         fig.colorbar(cp) # Add a colorbar to a plot\n",
    "        ax.set_title(title)\n",
    "        ax.set_xlabel('x (Km)')\n",
    "        ax.set_ylabel('y (Km)')\n",
    "        ax.set_xlim(self.ibeg, self.iend)\n",
    "        ax.set_ylim(self.jbeg, jmax)\n",
    "        norm = mpl.colors.Normalize(vmin=self.data[var].min(), vmax=self.data[var].max())\n",
    "        sm = plt.cm.ScalarMappable(norm=norm, cmap = cp.cmap)\n",
    "        sm.set_array([])\n",
    "        fig.colorbar(sm, ticks=cp.levels) # , label='$MeV\\cdot fm^{-3}$')\n",
    "\n",
    "        speed = np.sqrt(self.data['vx']**2 + self.data['vy']**2)\n",
    "        UN = self.data['vx'] /speed\n",
    "        VN = self.data['vy'] /speed\n",
    "        ax.quiver(self.Xgrid, self.Ygrid, UN, VN, \n",
    "           color='Teal', \n",
    "           headlength=10)\n",
    "        \n",
    "    def plot4var(self, pos):\n",
    "\n",
    "        fig, (ax1, ax2, ax3, ax4) = plt.subplots(4, sharex=True)\n",
    "        plt.style.use('seaborn-white')\n",
    "        fig.suptitle('t = ' + self.time + '$\\mu$s')\n",
    "        fig.tight_layout()\n",
    "        \n",
    "        axis_y = np.linspace(self.jbeg, self.jend, self.jcell)\n",
    "\n",
    "        ax1.plot(axis_y, self.data['dens'][:,pos])\n",
    "        ax1.set_title('Density $ [MeV\\cdot fm^{-3}]$ ')\n",
    "    #     ax1.set(ylabel='$ MeV\\cdot fm^{-3}$')            \n",
    "\n",
    "        ax2.plot(axis_y, self.data['prs'][:,pos])\n",
    "        ax2.set_title('Pressure $ [MeV\\cdot fm^{-3}]$')\n",
    "#         ax2.plot(axis_y, np.full(self.jcell, self.ptr), label = \"Ptr\")\n",
    "        ax2.plot(axis_y, np.full(self.jcell, self.pstar), label = \"Pstar\")\n",
    "    #     ax2.set(ylabel='$ MeV\\cdot fm^{-3}$')  \n",
    "\n",
    "#         ax3.plot(axis_y, self.data['vy'][:,pos])\n",
    "#         ax3.set_title('Velocity in y direction $[c = 1]$')\n",
    "#     #     ax3.set(ylabel='$ c = 1$')\n",
    "#         ax4.plot(axis_y, self.data['vx'][:,pos])\n",
    "#         ax4.set_title('Velocity in x direction $[c = 1]$')\n",
    "    #     ax4.set(ylabel='$ c = 1$')\n",
    "    \n",
    "        ax3.plot(axis_y, self.data['eps'][:,pos])\n",
    "        ax3.set_title('internal energy')\n",
    "    #     ax3.set(ylabel='$ c = 1$')\n",
    "        ax4.plot(axis_y, self.data['E'][:,pos])\n",
    "        ax4.set_title('Total Energy')\n",
    "\n",
    "\n",
    "    \n",
    "    \n",
    "    \n",
    "        #limites dos eixos y\n",
    "        ax1.set_xlim(self.jbeg,self.jend)\n",
    "    #     ax1.set_ylim(-50, 750)\n",
    "    #     ax2.set_ylim(-2., 100)\n",
    "    #     ax3.set_ylim(-0.25, 0.25)\n",
    "\n",
    "        filename = '../imagens/NS.' + self.out + '.png'\n",
    "        fig.savefig(filename)\n",
    "#         plt.close()\n",
    "\n",
    "\n",
    "\n",
    "\n",
    "     "
   ]
  },
  {
   "cell_type": "code",
   "execution_count": 133,
   "id": "b0a749d1-1fa8-41bc-bfd6-aff28e4673db",
   "metadata": {},
   "outputs": [],
   "source": [
    "pic = Snapshot()"
   ]
  },
  {
   "cell_type": "code",
   "execution_count": 150,
   "id": "b2f18f47-2a62-4dda-9625-e42a9af2869b",
   "metadata": {},
   "outputs": [],
   "source": [
    "pic.set_data(0)"
   ]
  },
  {
   "cell_type": "code",
   "execution_count": 151,
   "id": "d5c42a53-d05b-4c79-99df-4f4f1db8ad6b",
   "metadata": {},
   "outputs": [
    {
     "data": {
      "application/vnd.jupyter.widget-view+json": {
       "model_id": "92d751b6c389421fa97d425f19bfbdfe",
       "version_major": 2,
       "version_minor": 0
      },
      "text/plain": [
       "Canvas(toolbar=Toolbar(toolitems=[('Home', 'Reset original view', 'home', 'home'), ('Back', 'Back to previous …"
      ]
     },
     "metadata": {},
     "output_type": "display_data"
    }
   ],
   "source": [
    "pic.plot4var(20)"
   ]
  },
  {
   "cell_type": "code",
   "execution_count": 122,
   "id": "ead08b5c-f4c6-4e23-bce0-a625e543c9e3",
   "metadata": {},
   "outputs": [
    {
     "data": {
      "application/vnd.jupyter.widget-view+json": {
       "model_id": "90bfa97af01a49cb8f9cc74a78a11405",
       "version_major": 2,
       "version_minor": 0
      },
      "text/plain": [
       "Canvas(toolbar=Toolbar(toolitems=[('Home', 'Reset original view', 'home', 'home'), ('Back', 'Back to previous …"
      ]
     },
     "metadata": {},
     "output_type": "display_data"
    },
    {
     "data": {
      "application/vnd.jupyter.widget-view+json": {
       "model_id": "0ebcfea97ef046e286a7aab252947d07",
       "version_major": 2,
       "version_minor": 0
      },
      "text/plain": [
       "Canvas(toolbar=Toolbar(toolitems=[('Home', 'Reset original view', 'home', 'home'), ('Back', 'Back to previous …"
      ]
     },
     "metadata": {},
     "output_type": "display_data"
    }
   ],
   "source": [
    "pic.plot('prs',16, title = 'Pressure $MeV\\cdot fm^{-3}$')\n",
    "pic.plot('dens',16, title = 'Density $MeV\\cdot fm^{-3}$')"
   ]
  },
  {
   "cell_type": "code",
   "execution_count": null,
   "id": "0588c3d8-af20-4e3c-ac90-43076153d7a4",
   "metadata": {},
   "outputs": [],
   "source": []
  },
  {
   "cell_type": "code",
   "execution_count": null,
   "id": "2336badd-3d05-4073-a712-626694e150a9",
   "metadata": {},
   "outputs": [],
   "source": [
    "pic = Snapshot()\n",
    "for step in range(0,101):\n",
    "    pic.set_data(step)\n",
    "    pic.plot4var(16)\n",
    "    pic.plot('prs',16, title = 'Pressure $MeV\\cdot fm^{-3}$')\n",
    "    pic.plot('dens',16, title = 'Density $MeV\\cdot fm^{-3}$')\n",
    "    "
   ]
  },
  {
   "cell_type": "code",
   "execution_count": null,
   "id": "07fe4aa6-7a4f-4368-bcb3-254cce873d3d",
   "metadata": {},
   "outputs": [],
   "source": [
    "pic.plot('prs',16, title = 'Pressure $MeV\\cdot fm^{-3}$')"
   ]
  },
  {
   "cell_type": "code",
   "execution_count": null,
   "id": "a02d0bdf-f85f-46f4-a7a5-ff16b51ff43e",
   "metadata": {},
   "outputs": [],
   "source": []
  },
  {
   "cell_type": "code",
   "execution_count": null,
   "id": "db4d270e-9c2c-48bc-ad87-d2f42969fac4",
   "metadata": {},
   "outputs": [],
   "source": [
    "pic.plot('dens',16, title = 'Density $MeV\\cdot fm^{-3}$')"
   ]
  },
  {
   "cell_type": "code",
   "execution_count": null,
   "id": "007e4e49-bd8b-4b8f-b171-4ceaa8854681",
   "metadata": {},
   "outputs": [],
   "source": [
    "pic.velocity('prs',2)"
   ]
  },
  {
   "cell_type": "code",
   "execution_count": null,
   "id": "f7fd8ba0-1dfe-49ba-acad-11602e1ceece",
   "metadata": {},
   "outputs": [],
   "source": []
  },
  {
   "cell_type": "code",
   "execution_count": null,
   "id": "123aa0d0-461c-430d-967f-33093592b6c0",
   "metadata": {},
   "outputs": [],
   "source": [
    "pic.get_data(50)\n",
    "pic.plot('prs',3, title = 'Density $MeV\\cdot fm^{-3}$')"
   ]
  },
  {
   "cell_type": "code",
   "execution_count": null,
   "id": "9f391bf7-38a4-4d96-b5ae-504873156c8b",
   "metadata": {},
   "outputs": [],
   "source": [
    "def get_data4(step, pos, jcell = ycell, icell = xcell):\n",
    "    data = np.linspace(0, 16, ycell)\n",
    "    i = str(step).zfill(4)\n",
    "    filename = '../data/NS.' + i + '.dat'\n",
    "    var = 0\n",
    "#     pos = math.floor(icell/2)\n",
    "    for var in [0,1,2,3]: # densidade, vx vy, e pressao\n",
    "        prim = np.loadtxt(filename , unpack=True, usecols=[var]).reshape(jcell,icell)\n",
    "#         print(prim[:,math.floor(icell/2)].shape)\n",
    "        data = np.column_stack((data, prim[:,pos]))\n",
    "#         print(data.shape)\n",
    "    return data\n",
    "\n",
    "def plot4var(data, step):\n",
    "    \n",
    "    time = str(round(step * 0.0336 * 30.,2))\n",
    "    \n",
    "    fig, (ax1, ax2, ax3, ax4) = plt.subplots(4, sharex=True)\n",
    "    fig.suptitle('t = ' + time + '$\\mu$s')\n",
    "    fig.tight_layout()\n",
    "    i = 1\n",
    "    for ax in [ax1, ax4, ax3, ax2]:\n",
    "        ax.plot(data[:,0], data[:,i])\n",
    "        i += 1\n",
    "    ax2.plot(data[:,0], np.full(len(data[:,0]), 24))\n",
    "    ax1.set_title('Density $ [MeV\\cdot fm^{-3}]$ ')\n",
    "#     ax1.set(ylabel='$ MeV\\cdot fm^{-3}$')\n",
    "    ax2.set_title('Pressure $ [MeV\\cdot fm^{-3}]$')\n",
    "#     ax2.set(ylabel='$ MeV\\cdot fm^{-3}$')\n",
    "    ax3.set_title('Velocity in y direction $[c = 1]$')\n",
    "#     ax3.set(ylabel='$ c = 1$')\n",
    "    ax4.set_title('Velocity in x direction $[c = 1]$')\n",
    "#     ax4.set(ylabel='$ c = 1$')\n",
    "    #limites dos eixos y\n",
    "    ax1.set_xlim(0,16)\n",
    "#     ax1.set_ylim(-50, 750)\n",
    "#     ax2.set_ylim(-2., 100)\n",
    "#     ax3.set_ylim(-0.25, 0.25)\n",
    "\n",
    "    i = str(step).zfill(4)\n",
    "    filename = '../imagens/NS.' + i + '.png'\n",
    "    fig.savefig(filename)\n",
    "\n",
    "\n",
    "\n",
    "\n"
   ]
  },
  {
   "cell_type": "code",
   "execution_count": null,
   "id": "2d195c97-1d0d-455b-bea6-ce0a90ea248c",
   "metadata": {},
   "outputs": [],
   "source": [
    "step = 100\n",
    "pos = 16\n",
    "plot4var(get_data4(step, pos),step)"
   ]
  },
  {
   "cell_type": "code",
   "execution_count": null,
   "id": "34e1c013-eebf-4750-8aed-3bf520d1f22f",
   "metadata": {},
   "outputs": [],
   "source": [
    "for step in range(0,101):\n",
    "    plot4var(get_data4(step),step)"
   ]
  },
  {
   "cell_type": "code",
   "execution_count": null,
   "id": "26817086-7862-4c6f-b5e6-42fdb014ff37",
   "metadata": {},
   "outputs": [],
   "source": [
    "test.shape"
   ]
  },
  {
   "cell_type": "code",
   "execution_count": null,
   "id": "b773cc91-454b-4750-a33b-bd919ec10f03",
   "metadata": {},
   "outputs": [],
   "source": [
    "for step in range(30,41):\n",
    "    plot4var(get_data4(step),step)"
   ]
  },
  {
   "cell_type": "code",
   "execution_count": null,
   "id": "8f8e6ac5-2e03-4c85-8665-47e9e2ccade0",
   "metadata": {},
   "outputs": [],
   "source": []
  }
 ],
 "metadata": {
  "kernelspec": {
   "display_name": "Python 3",
   "language": "python",
   "name": "python3"
  },
  "language_info": {
   "codemirror_mode": {
    "name": "ipython",
    "version": 3
   },
   "file_extension": ".py",
   "mimetype": "text/x-python",
   "name": "python",
   "nbconvert_exporter": "python",
   "pygments_lexer": "ipython3",
   "version": "3.8.5"
  }
 },
 "nbformat": 4,
 "nbformat_minor": 5
}
