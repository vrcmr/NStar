{
 "cells": [
  {
   "cell_type": "code",
   "execution_count": 1,
   "id": "eda0d58c-ef00-4c3f-9405-137f9f68ee46",
   "metadata": {},
   "outputs": [],
   "source": [
    "import numpy as np\n",
    "import math\n",
    "import matplotlib.pyplot as plt\n",
    "import seaborn as sns; sns.set_theme()\n",
    "import math\n",
    "%matplotlib widget"
   ]
  },
  {
   "cell_type": "code",
   "execution_count": 9,
   "id": "318e1598-6f0a-4bcc-9ca6-04947f5c8630",
   "metadata": {},
   "outputs": [],
   "source": [
    "# check values in info.txt\n",
    "header = ['dens', 'vx', 'vy', 'prs', 'cs'] \n",
    "xcell = 100\n",
    "xbeg = -0.25\n",
    "xend =  0.25\n",
    "\n",
    "ycell = 300\n",
    "ybeg = -0.75\n",
    "yend =  0.75\n",
    "\n",
    "filename = '../data/NS.0004.dat'\n"
   ]
  },
  {
   "cell_type": "code",
   "execution_count": 10,
   "id": "4ae16d03-a444-412d-93d2-1f4296bd201f",
   "metadata": {},
   "outputs": [],
   "source": [
    "class Snapshot:\n",
    "    def __init__(self, icell = xcell, jcell = ycell, ibeg = xbeg, jbeg = ybeg, iend = xend, jend = yend):\n",
    "        self.icell = icell\n",
    "        self.jcell = jcell\n",
    "        self.ibeg = ibeg\n",
    "        self.jbeg = jbeg\n",
    "        self.iend = iend\n",
    "        self.jend = jend\n",
    "        self.data = {}\n",
    "        self.X, self.Y = np.meshgrid(np.linspace(ibeg, iend, icell), np.linspace(jbeg, jend, jcell))\n",
    "        self.out = \"\"\n",
    "        return\n",
    "        \n",
    "        \n",
    "        \n",
    "    def get_data(self, step):\n",
    "        idx = 0\n",
    "        header = ['dens', 'vx', 'vy', 'prs', 'cs']\n",
    "        self.out = str(step).zfill(4)\n",
    "        filename = '../data/rt.' + self.out + '.dat'\n",
    "        \n",
    "        for var in header:\n",
    "            self.data[var] = np.loadtxt(filename , unpack=True, usecols=[idx]).reshape(self.jcell,self.icell)\n",
    "            idx += 1\n",
    "        return\n",
    "\n",
    "        \n",
    "            \n",
    "    def plot(self, var, title = 'Plot'):\n",
    "        output = '../imagens/rt_' + var + '_' + self.out + '.png'\n",
    "        fig, ax = plt.subplots(1,1)\n",
    "        plt.style.use('seaborn-white')\n",
    "        cp = ax.contourf(self.X, self.Y, self.data[var], cmap='gist_heat')\n",
    "        fig.colorbar(cp) # Add a colorbar to a plot\n",
    "        ax.set_title(title)\n",
    "        ax.set_xlabel('x (Km)')\n",
    "        ax.set_ylabel('y (Km)')\n",
    "        ax.set_xlim(self.ibeg, self.iend)\n",
    "        ax.set_ylim(self.jbeg, self.jend)\n",
    "        ax.axes.set_aspect('equal')\n",
    "#         ax.axis('scaled')\n",
    "\n",
    "        plt.show()\n",
    "        plt.savefig(output)\n",
    "\n",
    "#         plt.close('all')\n",
    "\n",
    "        return\n",
    "\n",
    "\n",
    "        "
   ]
  },
  {
   "cell_type": "code",
   "execution_count": 11,
   "id": "114c0c5c-86af-4bb0-a952-645e4bf20a16",
   "metadata": {},
   "outputs": [],
   "source": [
    "init = Snapshot()"
   ]
  },
  {
   "cell_type": "code",
   "execution_count": 16,
   "id": "b0eb8557-4a1e-4001-9a33-d4a4af5c8f5b",
   "metadata": {},
   "outputs": [
    {
     "data": {
      "application/vnd.jupyter.widget-view+json": {
       "model_id": "2e35d51db8cf4acaa3ab87a534e87b83",
       "version_major": 2,
       "version_minor": 0
      },
      "text/plain": [
       "Canvas(toolbar=Toolbar(toolitems=[('Home', 'Reset original view', 'home', 'home'), ('Back', 'Back to previous …"
      ]
     },
     "metadata": {},
     "output_type": "display_data"
    }
   ],
   "source": [
    "init.get_data(1)\n",
    "init.plot('dens')\n"
   ]
  },
  {
   "cell_type": "code",
   "execution_count": null,
   "id": "c66f903c-810e-4ad3-8ca9-2f5251cdbb92",
   "metadata": {},
   "outputs": [],
   "source": [
    "def get_data(step, var, jcell = ycell, icell = xcell):\n",
    "    i = str(step).zfill(4)\n",
    "    filename = '../data/rt.' + i + '.dat'\n",
    "    prim = np.loadtxt(filename , unpack=True, usecols=[var]).reshape(jcell,icell)\n",
    "    return prim\n",
    "\n",
    "# prim = {}\n",
    "# idx = 0\n",
    "# for var in header:\n",
    "#     prim[var] = np.loadtxt(filename , unpack=True, usecols=[idx]).reshape(ycell,xcell)\n",
    "#     prim[var] = prim[var][:,exc:xcell-exc] # excluindo as fronteiras\n",
    "#     idx += 1"
   ]
  },
  {
   "cell_type": "code",
   "execution_count": null,
   "id": "70736169-bcd2-4c6b-9e9d-8c367aa72bc8",
   "metadata": {},
   "outputs": [],
   "source": [
    "xlist = np.linspace(xbeg, xend, xcell)\n",
    "ylist = np.linspace(ybeg, yend, ycell)\n",
    "X, Y = np.meshgrid(xlist, ylist)\n"
   ]
  },
  {
   "cell_type": "code",
   "execution_count": null,
   "id": "014b159e-46e7-4649-936b-3ccda85b0b7c",
   "metadata": {},
   "outputs": [],
   "source": [
    "def plot(x,y,data):\n",
    "    %matplotlib widget\n",
    "    \n",
    "    \n",
    "    _fig,ax=plt.subplots(1,1)\n",
    "cp = ax.contourf(X, Y, prim['dens'])\n",
    "_fig.colorbar(cp) # Add a colorbar to a plot\n",
    "ax.set_title('Filled Contours Plot')\n",
    "ax.set_xlabel('x (Km)')\n",
    "ax.set_ylabel('y (Km)')\n",
    "# plt.show()\n",
    "\n",
    "\n"
   ]
  },
  {
   "cell_type": "code",
   "execution_count": null,
   "id": "330ed3ba-f7ce-4f96-a1d6-16347d10eb6a",
   "metadata": {},
   "outputs": [],
   "source": [
    "prs_fig,ax=plt.subplots(1,1)\n",
    "cp = ax.contourf(X, Y, prim['prs'], cmap='viridis')\n",
    "prs_fig.colorbar(cp) # Add a colorbar to a plot\n",
    "ax.set_title('Filled Contours Plot')\n",
    "ax.set_xlabel('x (Km)')\n",
    "ax.set_ylabel('y (Km)')\n",
    "# ax.set_xlim(1,6)\n",
    "# ax.set_ylim(6,7)\n",
    "plt.show()\n",
    "\n",
    "\n"
   ]
  },
  {
   "cell_type": "code",
   "execution_count": null,
   "id": "09ad7c6b-8402-4e94-b7d3-7b57fb1d69cb",
   "metadata": {},
   "outputs": [],
   "source": [
    "plt.style.use('seaborn-white')\n",
    "prs_fig2, ax2 = plt.subplots()\n",
    "cset = ax2.contourf(X, Y, prim['prs'], cmap='viridis')\n",
    "ax2.set_xlabel('x (Km)')\n",
    "ax2.set_ylabel('y (Km)')\n",
    "# ax.set_xlim(1,6)\n",
    "# ax.set_ylim(6,7)\n",
    "prs_fig2.colorbar(cset)\n"
   ]
  },
  {
   "cell_type": "code",
   "execution_count": null,
   "id": "0e60ab95-68e3-4112-aa80-2a5c422efd37",
   "metadata": {},
   "outputs": [],
   "source": [
    "%matplotlib widget\n",
    "plt.plot(Y, prim['vy'][:,120])\n",
    "plt.xlabel('y-position')\n",
    "plt.ylabel('Velocity')\n",
    "# plt.legend(['x', 'y'], shadow=True)\n",
    "plt.title('Initial Condition')\n",
    "# plt.show()"
   ]
  },
  {
   "cell_type": "code",
   "execution_count": null,
   "id": "5284a69c-cb6d-41a4-b2ac-6f0f1d8909da",
   "metadata": {},
   "outputs": [],
   "source": [
    "def get_data(step, var, jcell = ycell, icell = xcell):\n",
    "    ylist = np.linspace(0, 14, ycell)\n",
    "    i = str(step).zfill(4)\n",
    "    filename = '../data/NS.' + i + '.dat'\n",
    "    prim = np.loadtxt(filename , unpack=True, usecols=[var]).reshape(jcell,icell)\n",
    "    data = np.stack((ylist, prim[:,math.floor(icell/2)]))\n",
    "    return data\n",
    "\n"
   ]
  },
  {
   "cell_type": "code",
   "execution_count": null,
   "id": "c01c87bb-109d-4961-aea5-3538db1e064a",
   "metadata": {},
   "outputs": [],
   "source": [
    "# plot mais genérico\n",
    "def plot(data, step):\n",
    "    sns.set_style(\"darkgrid\")\n",
    "    plt.plot(data[0,:], data[1,:])\n",
    "    i = str(step).zfill(4)\n",
    "    filename = '../imagens/NS.' + i + '.png'\n",
    "    plt.savefig(filename)\n",
    "    plt.close('all')\n",
    "#     plt.show()\n",
    "    "
   ]
  },
  {
   "cell_type": "code",
   "execution_count": null,
   "id": "b8909f63-4af8-47bf-a372-20531217c8a6",
   "metadata": {},
   "outputs": [],
   "source": [
    "def plot_vy(data, step):\n",
    "    sns.set_style(\"darkgrid\")\n",
    "    plt.plot(data[0,:], data[1,:])\n",
    "    plt.ylim(-0.25, 0.25)\n",
    "    plt.xlim(0., 14.)\n",
    "    i = str(step).zfill(4)\n",
    "    filename = '../imagens/NS.' + i + '.png'\n",
    "    plt.savefig(filename)\n",
    "    plt.close('all')\n",
    "#     plt.show()\n",
    "    "
   ]
  },
  {
   "cell_type": "code",
   "execution_count": null,
   "id": "9acbc04e-6301-49a6-9fe9-8f07174d9460",
   "metadata": {},
   "outputs": [],
   "source": [
    "for step in range(0,100,10):\n",
    "    plot_vy(get_data(step,2),step)"
   ]
  },
  {
   "cell_type": "code",
   "execution_count": null,
   "id": "9f391bf7-38a4-4d96-b5ae-504873156c8b",
   "metadata": {},
   "outputs": [],
   "source": [
    "def get_data4(step, jcell = ycell, icell = xcell):\n",
    "    data = np.linspace(0, 14, ycell)\n",
    "    i = str(step).zfill(4)\n",
    "    filename = '../data/NS.' + i + '.dat'\n",
    "    var = 0\n",
    "    for var in [0,2,3]: # densidade, vx e pressao\n",
    "        prim = np.loadtxt(filename , unpack=True, usecols=[var]).reshape(jcell,icell)\n",
    "#         print(prim[:,math.floor(icell/2)].shape)\n",
    "        data = np.column_stack((data, prim[:,math.floor(icell/2)]))\n",
    "#         print(data.shape)\n",
    "    return data\n",
    "\n",
    "def plot4var(data, step):\n",
    "    \n",
    "    time = str(round(step * 0.0336,2))\n",
    "    \n",
    "    fig, (ax1, ax2, ax3) = plt.subplots(3, sharex=True)\n",
    "    fig.suptitle('t = ' + time + '$\\mu$s')\n",
    "    i = 1\n",
    "    for ax in [ax1, ax3, ax2]:\n",
    "        ax.plot(data[:,0], data[:,i])\n",
    "        i += 1\n",
    "    ax1.set_title('Density')\n",
    "    ax1.set(ylabel='$ MeV\\cdot fm^{-3}$')\n",
    "    ax2.set_title('Pressure')\n",
    "    ax2.set(ylabel='$ MeV\\cdot fm^{-3}$')\n",
    "    ax3.set_title('Velocity in y direction')\n",
    "    ax3.set(ylabel='$ c = 1$')\n",
    "    #limites dos eixos y\n",
    "    ax1.set_xlim(0,14)\n",
    "    ax1.set_ylim(-50, 750)\n",
    "    ax2.set_ylim(-2., 100)\n",
    "    ax3.set_ylim(-0.25, 0.25)\n",
    "\n",
    "    i = str(step).zfill(4)\n",
    "    filename = '../imagens/NS.' + i + '.png'\n",
    "    fig.savefig(filename)\n",
    "\n",
    "\n",
    "\n"
   ]
  },
  {
   "cell_type": "code",
   "execution_count": null,
   "id": "34e1c013-eebf-4750-8aed-3bf520d1f22f",
   "metadata": {},
   "outputs": [],
   "source": [
    "step = 7\n",
    "plot4var(get_data4(step),step)"
   ]
  },
  {
   "cell_type": "code",
   "execution_count": null,
   "id": "26817086-7862-4c6f-b5e6-42fdb014ff37",
   "metadata": {},
   "outputs": [],
   "source": [
    "test.shape"
   ]
  },
  {
   "cell_type": "code",
   "execution_count": null,
   "id": "b773cc91-454b-4750-a33b-bd919ec10f03",
   "metadata": {},
   "outputs": [],
   "source": [
    "for step in range(30,41):\n",
    "    plot4var(get_data4(step),step)"
   ]
  },
  {
   "cell_type": "code",
   "execution_count": null,
   "id": "8f8e6ac5-2e03-4c85-8665-47e9e2ccade0",
   "metadata": {},
   "outputs": [],
   "source": []
  }
 ],
 "metadata": {
  "kernelspec": {
   "display_name": "Python 3 (ipykernel)",
   "language": "python",
   "name": "python3"
  },
  "language_info": {
   "codemirror_mode": {
    "name": "ipython",
    "version": 3
   },
   "file_extension": ".py",
   "mimetype": "text/x-python",
   "name": "python",
   "nbconvert_exporter": "python",
   "pygments_lexer": "ipython3",
   "version": "3.8.2"
  }
 },
 "nbformat": 4,
 "nbformat_minor": 5
}
